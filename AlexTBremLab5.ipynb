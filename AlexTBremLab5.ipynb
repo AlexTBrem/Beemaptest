{
  "cells": [
    {
      "cell_type": "markdown",
      "id": "4e70be69",
      "metadata": {
        "id": "4e70be69"
      },
      "source": [
        "# Lab 5\n",
        "\n",
        "[![image](https://colab.research.google.com/assets/colab-badge.svg)](https://colab.research.google.com/github/AlexTBrem/beemaptest/blob/main/AlexTBremLab5.ipynb)\n",
        "\n",
        "## Submission instructions\n",
        "\n",
        "1. Download the notebook from https://geosdemo.gishub.org/labs/lab5\n",
        "2. Complete the lab questions\n",
        "3. Restart Kernel and Run All Cells\n",
        "4. Upload the notebook to your GitHub repository\n",
        "5. Make sure the notebook has an `Open In Colab` badge. Click on the badge to make sure your notebook can be opened in Colab.\n",
        "6. Submit the link to the notebook on your GitHub repository to Canvas"
      ]
    },
    {
      "cell_type": "code",
      "execution_count": null,
      "id": "8de60915",
      "metadata": {
        "id": "8de60915"
      },
      "outputs": [],
      "source": [
        "from datetime import datetime\n",
        "\n",
        "now = datetime.now()\n",
        "print(f\"Submitted time: {now}\")"
      ]
    },
    {
      "cell_type": "markdown",
      "id": "a526d1ff",
      "metadata": {
        "id": "a526d1ff"
      },
      "source": [
        "## Question 1\n",
        "\n",
        "**Person:** Use a dictionary to store information about a person you know. Store their first name, last name, age, and the city in which they live. You should have keys such as first_name, last_name, age, and city. Print each piece of information stored in your dictionary."
      ]
    },
    {
      "cell_type": "code",
      "execution_count": null,
      "id": "060bd962",
      "metadata": {
        "id": "060bd962",
        "outputId": "f8681be3-d735-4522-f18e-4eccbbfd8eff",
        "colab": {
          "base_uri": "https://localhost:8080/"
        }
      },
      "outputs": [
        {
          "output_type": "stream",
          "name": "stdout",
          "text": [
            "first name: Kyle\n",
            "last name: Hanners\n",
            "age: 21\n",
            "home city: Knoxville\n"
          ]
        }
      ],
      "source": [
        "subject_0 = {'firstname': 'Kyle', 'lastname': 'Hanners', 'age': '21', 'city': 'Knoxville'}\n",
        "print ('first name:', subject_0['firstname'])\n",
        "print ('last name:',subject_0['lastname'])\n",
        "print ('age:',subject_0['age'])\n",
        "print ('home city:',subject_0['city'])"
      ]
    },
    {
      "cell_type": "markdown",
      "id": "32bb120e",
      "metadata": {
        "id": "32bb120e"
      },
      "source": [
        "## Question 2\n",
        "\n",
        "**Favorite Numbers:** Use a dictionary to store people’s favorite numbers. Think of five names, and use them as keys in your dictionary. Think of a favorite number for each person, and store each as a value in your dictionary. Print each person’s name and their favorite number. For even more fun, poll a few friends and get some actual data for your program."
      ]
    },
    {
      "cell_type": "code",
      "execution_count": null,
      "id": "37115a33",
      "metadata": {
        "id": "37115a33",
        "outputId": "10484db1-c6eb-428a-8762-e198c93175b3",
        "colab": {
          "base_uri": "https://localhost:8080/"
        }
      },
      "outputs": [
        {
          "output_type": "stream",
          "name": "stdout",
          "text": [
            "The favorite number of Anne is:\n",
            "5!\n",
            "The favorite number of Becky is:\n",
            "2!\n",
            "The favorite number of Rob is:\n",
            "34!\n",
            "The favorite number of Chris is:\n",
            "16!\n",
            "The favorite number of Charles is:\n",
            "42!\n"
          ]
        }
      ],
      "source": [
        "favorite_numbers = {'Anne': '5', 'Becky': '2', 'Rob': '34', 'Chris': '16', 'Charles': '42'}\n",
        "\n",
        "friends = ['Anne', 'Becky', 'Rob', 'Chris', 'Charles']\n",
        "for name in favorite_numbers.keys():\n",
        "    print('The favorite number of', name.title(), 'is:')    \n",
        "       \n",
        "    if name in friends:\n",
        "      number = favorite_numbers[name].title()\n",
        "      print(f\"{number}!\")"
      ]
    },
    {
      "cell_type": "markdown",
      "id": "eb31ca53",
      "metadata": {
        "id": "eb31ca53"
      },
      "source": [
        "## Question 3\n",
        "\n",
        "**Glossary:** A Python dictionary can be used to model an actual dictionary. However, to avoid confusion, let’s call it a glossary.\n",
        "\n",
        "- Think of five programming words you’ve learned about in the previous chapters. Use these words as the keys in your glossary, and store their meanings as values.\n",
        "- Print each word and its meaning as neatly formatted output. You might print the word followed by a colon and then its meaning, or print the word on one line and then print its meaning indented on a second line. Use the newline character (\\n) to insert a blank line between each word-meaning pair in your output."
      ]
    },
    {
      "cell_type": "code",
      "execution_count": null,
      "id": "7bdd7f86",
      "metadata": {
        "id": "7bdd7f86",
        "outputId": "3ac9538c-cc09-4cc8-b0a2-779279c08966",
        "colab": {
          "base_uri": "https://localhost:8080/"
        }
      },
      "outputs": [
        {
          "output_type": "stream",
          "name": "stdout",
          "text": [
            "Definition of List:\n",
            "\t A collection of items or elements that are stored for access later\n",
            "\n",
            "Definition of Element:\n",
            "\t Refers to the individual components in a larger system such as a list\n",
            "\n",
            "Definition of Boolean:\n",
            "\t A programming expression used to denote a conitional test\n",
            "\n",
            "Definition of If Statement:\n",
            "\t A programming test used to denote that if condition is met do blank\n",
            "\n",
            "Definition of If-Else Statement:\n",
            "\t A programming test used to denote an action when the previous if statement fails\n",
            "\n"
          ]
        }
      ],
      "source": [
        "programming_words = {'list': 'A collection of items or elements that are stored for access later', \n",
        "                     'element': 'Refers to the individual components in a larger system such as a list',\n",
        "                     'boolean': 'A programming expression used to denote a conitional test',\n",
        "                     'if': 'A programming test used to denote that if condition is met do blank',\n",
        "                     'if-else': 'A programming test used to denote an action when the previous if statement fails'}\n",
        "print(f\"Definition of List:\\n\\t {programming_words['list']}\\n\")\n",
        "print(f\"Definition of Element:\\n\\t {programming_words['element']}\\n\")\n",
        "print(f\"Definition of Boolean:\\n\\t {programming_words['boolean']}\\n\")\n",
        "print(f\"Definition of If Statement:\\n\\t {programming_words['if']}\\n\")\n",
        "print(f\"Definition of If-Else Statement:\\n\\t {programming_words['if-else']}\\n\")"
      ]
    },
    {
      "cell_type": "markdown",
      "id": "9bdb2d85",
      "metadata": {
        "id": "9bdb2d85"
      },
      "source": [
        "## Question 4\n",
        "\n",
        "**Glossary 2:** Now that you know how to loop through a dictionary, clean up the code from Question 3 by replacing your series of print() calls with a loop that runs through the dictionary’s keys and values. When you’re sure that your loop works, add five more Python terms to your glossary. When you run your program again, these new words and meanings should automatically be included in the output."
      ]
    },
    {
      "cell_type": "code",
      "execution_count": null,
      "id": "018d37ff",
      "metadata": {
        "id": "018d37ff",
        "outputId": "1f7c140c-ba0a-4160-e058-a41d99c51be1",
        "colab": {
          "base_uri": "https://localhost:8080/"
        }
      },
      "outputs": [
        {
          "output_type": "stream",
          "name": "stdout",
          "text": [
            "\n",
            "List's definition is:\n",
            "\tA collection of items or elements that are stored for access later\n",
            "\n",
            "Element's definition is:\n",
            "\tAn item that refers to the individual components in a larger system such as a list\n",
            "\n",
            "Boolean's definition is:\n",
            "\tA programming expression used to denote a conitional test\n",
            "\n",
            "If's definition is:\n",
            "\tA programming test used to denote that if condition is met do blank\n",
            "\n",
            "If-Else's definition is:\n",
            "\tA programming test used to denote an action when the previous if statement fails\n",
            "\n",
            "Comment's definition is:\n",
            "\tA comment is a way to write text in programming that won't run as code\n",
            "\n",
            "Floats's definition is:\n",
            "\tAny number in python that contains a decimnal point\n",
            "\n",
            "Syntax Error's definition is:\n",
            "\tAn incorrectly formated string that causes your program to fail to execute\n",
            "\n",
            "Whitespace's definition is:\n",
            "\tAny spaces, indentations, or tabs in a text output used for clarity or design\n",
            "\n",
            "Code Indentation's definition is:\n",
            "\tA format used to denote how python will execute a piece of code. If incorrect will result in failure to execute errors\n"
          ]
        }
      ],
      "source": [
        "programming_words = {'list': ['A collection of items or elements that are stored for access later'], \n",
        "                     'element': ['An item that refers to the individual components in a larger system such as a list'],\n",
        "                     'boolean': ['A programming expression used to denote a conitional test'],\n",
        "                     'if': ['A programming test used to denote that if condition is met do blank'],\n",
        "                     'if-else': ['A programming test used to denote an action when the previous if statement fails'],\n",
        "                     'comment': ['A comment is a way to write text in programming that won\\'t run as code'],\n",
        "                     'floats': ['Any number in python that contains a decimnal point'],\n",
        "                     'syntax error': ['An incorrectly formated string that causes your program to fail to execute'],\n",
        "                     'whitespace': ['Any spaces, indentations, or tabs in a text output used for clarity or design'],\n",
        "                     'code indentation': ['A format used to denote how python will execute a piece of code. If incorrect will result in failure to execute errors'],\n",
        "                     }\n",
        "for word, definitions in programming_words.items():\n",
        "    print(f\"\\n{word.title()}'s definition is:\")\n",
        "    for definition in definitions:\n",
        "        print(f\"\\t{definition}\")"
      ]
    },
    {
      "cell_type": "markdown",
      "id": "375356d5",
      "metadata": {
        "id": "375356d5"
      },
      "source": [
        "## Question 5\n",
        "\n",
        "**Rivers:** Make a dictionary containing three major rivers and the country each river runs through. One key-value pair might be 'nile': 'egypt'.\n",
        "\n",
        "- Use a loop to print a sentence about each river, such as _The Nile runs through Egypt._\n",
        "- Use a loop to print the name of each river included in the dictionary.\n",
        "- Use a loop to print the name of each country included in the dictionary."
      ]
    },
    {
      "cell_type": "code",
      "execution_count": null,
      "id": "2fd7b758",
      "metadata": {
        "id": "2fd7b758",
        "outputId": "74c800cb-8377-4619-b3a2-4834eab62d0b",
        "colab": {
          "base_uri": "https://localhost:8080/"
        }
      },
      "outputs": [
        {
          "output_type": "stream",
          "name": "stdout",
          "text": [
            "The Nile river runs through Egypt.\n",
            "\n",
            "The Amazon river runs through Brazil.\n",
            "\n",
            "The Shannon river runs through Ireland.\n",
            "\n",
            "Rivers contained in dictionary:\n",
            "\t Nile\n",
            "\t Amazon\n",
            "\t Shannon\n",
            "Countries contained in dictionary:\n",
            "\t Egypt\n",
            "\t Brazil\n",
            "\t Ireland\n"
          ]
        }
      ],
      "source": [
        "rivers = {'nile': 'egypt', 'amazon': 'brazil', 'shannon': 'ireland'}\n",
        "\n",
        "for river, country in rivers.items():\n",
        "  print(f\"The {river.title()} river runs through {country.title()}.\\n\")\n",
        "\n",
        "print('Rivers contained in dictionary:')\n",
        "for river in rivers:\n",
        "  print('\\t',river.title())\n",
        "\n",
        "print('Countries contained in dictionary:')\n",
        "for country in rivers.values():\n",
        "  print('\\t',country.title())"
      ]
    },
    {
      "cell_type": "markdown",
      "id": "8b0b500d",
      "metadata": {
        "id": "8b0b500d"
      },
      "source": [
        "## Question 6\n",
        "\n",
        "**Cities:** Make a dictionary called `cities`. Use the names of three cities as keys in your dictionary. Create a dictionary of information about each city and include the country that the city is in, its approximate population, and one fact about that city. The keys for each city’s dictionary should be something like `country`, `population`, and `fact`. Print the name of each city and all of the information you have stored about it."
      ]
    },
    {
      "cell_type": "code",
      "execution_count": null,
      "id": "28a77010",
      "metadata": {
        "id": "28a77010",
        "colab": {
          "base_uri": "https://localhost:8080/"
        },
        "outputId": "8537f955-d860-4f76-a2f9-64354f84ddb0"
      },
      "outputs": [
        {
          "output_type": "stream",
          "name": "stdout",
          "text": [
            "\n",
            "City: Belfast\n",
            "\tCountry: Ireland\n",
            "\tPopulation: 340,000\n",
            "\tFact: Belfast is where the RMS Titan was built\n",
            "\n",
            "City: London\n",
            "\tCountry: England\n",
            "\tPopulation: 8,983,000\n",
            "\tFact: The first city to host the Olympics three seperate times\n",
            "\n",
            "City: Windhoek\n",
            "\tCountry: Namibia\n",
            "\tPopulation: 430,000\n",
            "\tFact: The Windhoek airport handles the cities population worth on connecting flights daily!\n"
          ]
        }
      ],
      "source": [
        "cities = {\n",
        "    'belfast': {\n",
        "        'country': 'Ireland',\n",
        "        'population': '340,000',\n",
        "        'fact': 'Belfast is where the RMS Titan was built',\n",
        "    },\n",
        "    'london': {\n",
        "        'country': 'England',\n",
        "        'population': '8,983,000',\n",
        "        'fact': 'The first city to host the Olympics three seperate times',\n",
        "    },\n",
        "    'windhoek': {\n",
        "        'country': 'Namibia',\n",
        "        'population': '430,000',\n",
        "        'fact': 'The Windhoek airport handles the cities population worth on connecting flights daily!',\n",
        "    }\n",
        "}\n",
        "\n",
        "for city, info in cities.items():\n",
        "  print(f\"\\nCity: {city.title()}\")\n",
        "  print(f\"\\tCountry: {info['country']}\")\n",
        "  print(f\"\\tPopulation: {info['population']}\")\n",
        "  print(f\"\\tFact: {info['fact']}\")\n"
      ]
    },
    {
      "cell_type": "markdown",
      "id": "874541d3",
      "metadata": {
        "id": "874541d3"
      },
      "source": [
        "## Question 7\n",
        "\n",
        "**Rental Car:** Write a program that asks the user what kind of rental car they would like. Print a message about that car, such as “Let me see if I can find you a Subaru.”"
      ]
    },
    {
      "cell_type": "code",
      "execution_count": null,
      "id": "5283628b",
      "metadata": {
        "id": "5283628b",
        "colab": {
          "base_uri": "https://localhost:8080/"
        },
        "outputId": "0d3ceb86-465d-4518-b4cf-bb2a59b9ec6b"
      },
      "outputs": [
        {
          "output_type": "stream",
          "name": "stdout",
          "text": [
            "If you tell me what you are looking for I can check if it is available.\n",
            "What car type are you looking for?truck\n",
            "\n",
            "Let me check if we have a truck in the back!\n"
          ]
        }
      ],
      "source": [
        "prompt = \"If you tell me what you are looking for I can check if it is available.\"\n",
        "prompt += \"\\nWhat car type are you looking for?\"\n",
        "\n",
        "name = input(prompt)\n",
        "print(f\"\\nLet me check if we have a {name} in the back!\")"
      ]
    },
    {
      "cell_type": "markdown",
      "id": "e03a200a",
      "metadata": {
        "id": "e03a200a"
      },
      "source": [
        "## Question 8\n",
        "\n",
        "**Restaurant Seating:** Write a program that asks the user how many people are in their dinner group. If the answer is more than eight, print a message saying they’ll have to wait for a table. Otherwise, report that their table is ready."
      ]
    },
    {
      "cell_type": "code",
      "execution_count": null,
      "id": "96167a0f",
      "metadata": {
        "id": "96167a0f",
        "colab": {
          "base_uri": "https://localhost:8080/"
        },
        "outputId": "3d695618-d809-472b-dfef-daea3150caee"
      },
      "outputs": [
        {
          "output_type": "stream",
          "name": "stdout",
          "text": [
            "How many people are in your party?7\n",
            "\n",
            "Your table is ready!\n"
          ]
        }
      ],
      "source": [
        "seats = input(\"How many people are in your party?\")\n",
        "seats = int(seats)\n",
        "\n",
        "if seats >= 8:\n",
        "     print(\"\\nWe will call you when your table is ready!\")\n",
        "else:\n",
        "     print(\"\\nYour table is ready!\")"
      ]
    },
    {
      "cell_type": "markdown",
      "id": "a523d8a7",
      "metadata": {
        "id": "a523d8a7"
      },
      "source": [
        "## Question 9\n",
        "\n",
        "**Multiples of Ten:** Ask the user for a number, and then report whether the number is a multiple of 10 or not."
      ]
    },
    {
      "cell_type": "code",
      "execution_count": null,
      "id": "77c9702e",
      "metadata": {
        "id": "77c9702e",
        "colab": {
          "base_uri": "https://localhost:8080/"
        },
        "outputId": "0ed4488d-d9b0-4c4d-f34d-c1ac962874f5"
      },
      "outputs": [
        {
          "output_type": "stream",
          "name": "stdout",
          "text": [
            "Enter a number, and I'll tell you if it's a multiple of ten.20\n",
            "\n",
            "The number 20 is a multiple of ten.\n"
          ]
        }
      ],
      "source": [
        "number = input(\"Enter a number, and I'll tell you if it's a multiple of ten.\")\n",
        "number = int(number)\n",
        "\n",
        "if number % 10 == 0:\n",
        "    print(f\"\\nThe number {number} is a multiple of ten.\")\n",
        "else:\n",
        "    print(f\"\\nThe number {number} is not a multiple of ten.\")"
      ]
    },
    {
      "cell_type": "markdown",
      "id": "de550983",
      "metadata": {
        "id": "de550983"
      },
      "source": [
        "## Question 10\n",
        "\n",
        "**Pizza Toppings:** Write a loop that prompts the user to enter a series of pizza toppings until they enter a 'quit' value. As they enter each topping, print a message saying you’ll add that topping to their pizza."
      ]
    },
    {
      "cell_type": "code",
      "execution_count": null,
      "id": "11f4d8e4",
      "metadata": {
        "id": "11f4d8e4",
        "colab": {
          "base_uri": "https://localhost:8080/"
        },
        "outputId": "bc1f93a1-99b4-4334-85be-9de5a448ddf5"
      },
      "outputs": [
        {
          "name": "stdout",
          "output_type": "stream",
          "text": [
            "\n",
            "Tell me what you would like on your pizza:\n",
            "Enter 'quit' to end the program. Plop\n",
            "\n",
            "The topping Plop has been added to your pizza\n",
            "\n",
            "Tell me what you would like on your pizza:\n",
            "Enter 'quit' to end the program. Peppers\n",
            "\n",
            "The topping Peppers has been added to your pizza\n",
            "\n",
            "Tell me what you would like on your pizza:\n",
            "Enter 'quit' to end the program. quit\n"
          ]
        }
      ],
      "source": [
        "prompt = \"\\nTell me what you would like on your pizza:\"\n",
        "prompt += \"\\nEnter 'quit' to end the program. \"\n",
        "\n",
        "message = \"\"\n",
        "while message != 'quit':\n",
        "    message = input(prompt)\n",
        "\n",
        "    if message != 'quit':\n",
        "        print(f'\\nThe topping', message, 'has been added to your pizza')"
      ]
    },
    {
      "cell_type": "markdown",
      "id": "ccfe4831",
      "metadata": {
        "id": "ccfe4831"
      },
      "source": [
        "## Question 11\n",
        "\n",
        "**Message:** Write a function called `display_message()` that prints one sentence telling everyone what you are learning about in this chapter. Call the function, and make sure the message displays correctly."
      ]
    },
    {
      "cell_type": "code",
      "execution_count": null,
      "id": "7080b52a",
      "metadata": {
        "id": "7080b52a",
        "colab": {
          "base_uri": "https://localhost:8080/"
        },
        "outputId": "627faa18-b657-484b-a14a-e55f880f4c37"
      },
      "outputs": [
        {
          "output_type": "stream",
          "name": "stdout",
          "text": [
            "I am learning that coding gives me a headache\n"
          ]
        }
      ],
      "source": [
        "def display_message():\n",
        "  \"\"\"Display a simple message.\"\"\"\n",
        "  print(\"I am learning that coding gives me a headache\")\n",
        "\n",
        "display_message()"
      ]
    },
    {
      "cell_type": "markdown",
      "id": "2b5e23db",
      "metadata": {
        "id": "2b5e23db"
      },
      "source": [
        "## Question 12\n",
        "\n",
        "**Favorite Book:** Write a function called `favorite_book()` that accepts one parameter, title. The function should print a message, such as `One of my favorite books is Alice in Wonderland`. Call the function, making sure to include a book title as an argument in the function call."
      ]
    },
    {
      "cell_type": "code",
      "execution_count": null,
      "id": "b33bd108",
      "metadata": {
        "id": "b33bd108",
        "colab": {
          "base_uri": "https://localhost:8080/"
        },
        "outputId": "b45ed750-e174-4d0d-c3ca-44a7ee05965e"
      },
      "outputs": [
        {
          "output_type": "stream",
          "name": "stdout",
          "text": [
            "My favorite book is The Wheel Of Time!\n"
          ]
        }
      ],
      "source": [
        "def favorite_book(book):\n",
        "    \"\"\"Computer, display favorite book.\"\"\"\n",
        "    print(f\"My favorite book is {book.title()}!\")\n",
        "\n",
        "favorite_book('The Wheel of Time')"
      ]
    },
    {
      "cell_type": "markdown",
      "id": "4904419f",
      "metadata": {
        "id": "4904419f"
      },
      "source": [
        "## Question 13\n",
        "\n",
        "**T-Shirt:** Write a function called `make_shirt()` that accepts a size and the text of a message that should be printed on the shirt. The function should print a sentence summarizing the size of the shirt and the message printed on it.\n",
        "\n",
        "Call the function once using positional arguments to make a shirt. Call the function a second time using keyword arguments."
      ]
    },
    {
      "cell_type": "code",
      "execution_count": null,
      "id": "53d690ca",
      "metadata": {
        "id": "53d690ca",
        "colab": {
          "base_uri": "https://localhost:8080/"
        },
        "outputId": "792ea761-a334-4e96-f2c8-385c69ea227c"
      },
      "outputs": [
        {
          "output_type": "stream",
          "name": "stdout",
          "text": [
            "\n",
            "Your shirt size is Large and your text is \"Cats are Cool\".\n"
          ]
        }
      ],
      "source": [
        "def make_shirt(size, text):\n",
        "    \"\"\"Computer, display shirt information\"\"\"\n",
        "    print(f'\\nYour shirt size is {size} and your text is \"{text}\".')\n",
        "\n",
        "make_shirt('Large', 'Cats are Cool')"
      ]
    },
    {
      "cell_type": "markdown",
      "id": "c6a6dc4b",
      "metadata": {
        "id": "c6a6dc4b"
      },
      "source": [
        "## Question 14\n",
        "\n",
        "**Large Shirts:** Modify the `make_shirt()` function so that shirts are large by default with a message that reads _I love Python_. Make a large shirt and a medium shirt with the default message, and a shirt of any size with a different message."
      ]
    },
    {
      "cell_type": "code",
      "execution_count": null,
      "id": "658f7e3f",
      "metadata": {
        "id": "658f7e3f",
        "colab": {
          "base_uri": "https://localhost:8080/"
        },
        "outputId": "2a780ae7-8365-48b1-d76d-565821d6828a"
      },
      "outputs": [
        {
          "output_type": "stream",
          "name": "stdout",
          "text": [
            "\n",
            "Your shirt size is Large and your text is \"I love python\".\n",
            "\n",
            "Your shirt size is Medium and your text is \"I love python\".\n",
            "\n",
            "Your shirt size is Small and your text is \"Cats are cool\".\n"
          ]
        }
      ],
      "source": [
        "def make_shirt(size='Large', text='I love python'):\n",
        "    \"\"\"Computer, display shirt information\"\"\"\n",
        "    print(f'\\nYour shirt size is {size} and your text is \"{text}\".')\n",
        "\n",
        "make_shirt()\n",
        "make_shirt(size='Medium')\n",
        "make_shirt(size='Small', text='Cats are cool')"
      ]
    },
    {
      "cell_type": "markdown",
      "id": "64fd6e85",
      "metadata": {
        "id": "64fd6e85"
      },
      "source": [
        "## Question 15\n",
        "\n",
        "**Cities:** Write a function called `describe_city()` that accepts the name of a city and its country. The function should print a simple sentence, such as `Reykjavik is in Iceland`. Give the parameter for the country a default value. Call your function for three different cities, at least one of which is not in the default country."
      ]
    },
    {
      "cell_type": "code",
      "execution_count": null,
      "id": "bc493373",
      "metadata": {
        "id": "bc493373",
        "colab": {
          "base_uri": "https://localhost:8080/"
        },
        "outputId": "d9d6da12-a198-4bb0-bbe8-d2004c7f5d51"
      },
      "outputs": [
        {
          "output_type": "stream",
          "name": "stdout",
          "text": [
            "\n",
            "The city Oslo is in Norway\n",
            "\n",
            "The city Bergen is in Norway\n",
            "\n",
            "The city Istanbul is in Turkey\n"
          ]
        }
      ],
      "source": [
        "def describe_city(name, country='norway'):\n",
        "  \"\"\"Computer, display city information\"\"\"\n",
        "  print(f\"\\nThe city {name.title()} is in {country.title()}\")\n",
        "\n",
        "describe_city('oslo')\n",
        "describe_city('bergen')\n",
        "describe_city('Istanbul', country='Turkey')"
      ]
    },
    {
      "cell_type": "markdown",
      "id": "259cdcdc",
      "metadata": {
        "id": "259cdcdc"
      },
      "source": [
        "## Question 16\n",
        "\n",
        "**City Names:** Write a function called `city_country()` that takes in the name of a city and its country. The function should return a string formatted like this:\n",
        "\n",
        "```text\n",
        "Santiago, Chile\n",
        "```\n",
        "\n",
        "Call your function with at least three city-country pairs, and print the values that are returned."
      ]
    },
    {
      "cell_type": "code",
      "execution_count": null,
      "id": "f1b5b16e",
      "metadata": {
        "id": "f1b5b16e",
        "colab": {
          "base_uri": "https://localhost:8080/"
        },
        "outputId": "70c8459d-635d-4ca2-ce42-cb57f5e1f01d"
      },
      "outputs": [
        {
          "output_type": "stream",
          "name": "stdout",
          "text": [
            "Oslo, Norway\n",
            "Bergen, Norway\n",
            "Istanbul, Turkey\n"
          ]
        }
      ],
      "source": [
        "def city_country(city, country):\n",
        "  \"\"\"Computer, return city and country formatted.\"\"\"\n",
        "  full_name = f\"{city}, {country}\"\n",
        "  return full_name.title() \n",
        "\n",
        "city1 = city_country('oslo', 'norway')\n",
        "city2 = city_country('bergen', 'norway')\n",
        "city3 = city_country('istanbul', 'turkey')\n",
        "print(city1)\n",
        "print(city2)\n",
        "print(city3)\n"
      ]
    },
    {
      "cell_type": "markdown",
      "id": "491f64a4",
      "metadata": {
        "id": "491f64a4"
      },
      "source": [
        "## Question 17\n",
        "\n",
        "**Album:** Write a function called `make_album()` that builds a dictionary describing a music album. The function should take in an artist name and an album title, and it should return a dictionary containing these two pieces of information. Use the function to make three dictionaries representing different albums. Print each return value to show that the dictionaries are storing the album information correctly.\n",
        "\n",
        "Use None to add an optional parameter to make_album() that allows you to store the number of songs on an album. If the calling line includes a value for the number of songs, add that value to the album’s dictionary. Make at least one new function call that includes the number of songs on an album."
      ]
    },
    {
      "cell_type": "code",
      "execution_count": null,
      "id": "550b2be6",
      "metadata": {
        "id": "550b2be6",
        "colab": {
          "base_uri": "https://localhost:8080/"
        },
        "outputId": "95813105-c6f0-4a5c-e921-0f12e76ecc02"
      },
      "outputs": [
        {
          "output_type": "stream",
          "name": "stdout",
          "text": [
            "{'Artist Name': 'Ghost', 'Album Title': 'Impera'}\n",
            "{'Artist Name': 'Imagine Dragons', 'Album Title': 'Evolve', 'songs': 11}\n",
            "{'Artist Name': 'Taylor Swift', 'Album Title': 'Folklore', 'songs': 16}\n"
          ]
        }
      ],
      "source": [
        "def make_album(artist_name, album_title, songs=None):\n",
        "    \"\"\"Computer, return a dictionary of music album info\"\"\"\n",
        "    album = {'Artist Name': artist_name.title(), 'Album Title': album_title.title()}\n",
        "    if songs:\n",
        "      album['songs'] = songs\n",
        "    return album\n",
        "\n",
        "album1 = make_album('Ghost', 'Impera')\n",
        "album2 = make_album('Imagine Dragons', 'Evolve', 11)\n",
        "album3 = make_album('Taylor Swift', 'folklore', 16)\n",
        "print(album1)\n",
        "print(album2)\n",
        "print(album3)"
      ]
    },
    {
      "cell_type": "markdown",
      "id": "42f6a72f",
      "metadata": {
        "id": "42f6a72f"
      },
      "source": [
        "## Question 18\n",
        "\n",
        "**User Albums:** Start with your program from Question 17. Write a `while` loop that allows users to enter an album’s artist and title. Once you have that information, call `make_album()` with the user’s input and print the dictionary that’s created. Be sure to include a quit value in the `while` loop."
      ]
    },
    {
      "cell_type": "code",
      "execution_count": null,
      "id": "2ba9b4ba",
      "metadata": {
        "id": "2ba9b4ba",
        "colab": {
          "base_uri": "https://localhost:8080/"
        },
        "outputId": "10ceab0b-eddd-4b05-c4ed-591646042727"
      },
      "outputs": [
        {
          "name": "stdout",
          "output_type": "stream",
          "text": [
            "\n",
            "Please enter artist name\n",
            "Please enter album title\n",
            "please enter number of songs\n",
            "(enter 'q' at any time to quit)\n",
            "Artist name: Ed\n",
            "Album title: Bob\n",
            "Song number: 11\n",
            "\n",
            "Your formatted album info is, {'Artist Name': 'Ed', 'Album Title': 'Bob', 'songs': '11'}!\n",
            "\n",
            "Please enter artist name\n",
            "Please enter album title\n",
            "please enter number of songs\n",
            "(enter 'q' at any time to quit)\n",
            "Artist name: q\n"
          ]
        }
      ],
      "source": [
        "def make_album(artist_name, album_title, songs=None):\n",
        "    \"\"\"Computer, return a dictionary of music album info\"\"\"\n",
        "    album = {'Artist Name': artist_name.title(), 'Album Title': album_title.title()}\n",
        "    if songs:\n",
        "      album['songs'] = songs\n",
        "    return album\n",
        "\n",
        "while True:\n",
        "  print(\"\\nPlease enter artist name\")\n",
        "  print(\"Please enter album title\")\n",
        "  print(\"please enter number of songs\")\n",
        "  print(\"(enter 'q' at any time to quit)\")\n",
        "\n",
        "  a_name = input(\"Artist name: \")\n",
        "  if a_name == 'q':\n",
        "    break\n",
        "  \n",
        "  a_title = input(\"Album title: \")\n",
        "  if a_title == 'q':\n",
        "    break\n",
        "  \n",
        "  songs = input(\"Song number: \")\n",
        "  if songs == 'q':\n",
        "    break\n",
        "  \n",
        "  formatted_album = make_album(a_name, a_title, songs)\n",
        "  print(f\"\\nYour formatted album info is, {formatted_album}!\")"
      ]
    },
    {
      "cell_type": "markdown",
      "id": "97bab8c2",
      "metadata": {
        "id": "97bab8c2"
      },
      "source": [
        "## Question 19\n",
        "\n",
        "**Messages:** Make a list containing a series of short text messages. Pass the list to a function called `show_messages()`, which prints each text message."
      ]
    },
    {
      "cell_type": "code",
      "execution_count": null,
      "id": "f8f3ee4e",
      "metadata": {
        "id": "f8f3ee4e",
        "colab": {
          "base_uri": "https://localhost:8080/"
        },
        "outputId": "1df156bb-d2a8-4dd9-e58e-025c7406a227"
      },
      "outputs": [
        {
          "output_type": "stream",
          "name": "stdout",
          "text": [
            "[\"We've been trying to reach you about your car's extended warranty\", 'hello, is this billy?', 'I have your cat, send the agreed payment to the agreed upon location']\n"
          ]
        }
      ],
      "source": [
        "def show_messages(messages):\n",
        "    \"\"\"Computer, print out my messages in a list.\"\"\"\n",
        "    for message in messages:\n",
        "        print(message)\n",
        "\n",
        "text_messages = [\n",
        "      \"We\\'ve been trying to reach you about your car\\'s extended warranty\",\n",
        "      \"hello, is this billy?\",\n",
        "      \"I have your cat, send the agreed payment to the agreed upon location\"\n",
        "     ]\n",
        "print(text_messages)"
      ]
    },
    {
      "cell_type": "markdown",
      "id": "a8bcea3c",
      "metadata": {
        "id": "a8bcea3c"
      },
      "source": [
        "## Question 20\n",
        "\n",
        "**Sending Messages:** Start with a copy of your program from Question 19. Write a function called `send_messages()` that prints each text message and moves each message to a new list called `sent_messages` as it’s printed. After calling the function, print both of your lists to make sure the messages were moved correctly."
      ]
    },
    {
      "cell_type": "code",
      "execution_count": null,
      "id": "c5340719",
      "metadata": {
        "id": "c5340719",
        "colab": {
          "base_uri": "https://localhost:8080/"
        },
        "outputId": "9c535231-597d-4f49-d1d8-55ffb8783e44"
      },
      "outputs": [
        {
          "output_type": "stream",
          "name": "stdout",
          "text": [
            "Unsent messages: I have your cat, send the agreed payment to the agreed upon location\n",
            "Unsent messages: hello, is this billy?\n",
            "Unsent messages: We've been trying to reach you about your car's extended warranty\n",
            "\n",
            "The following messages have been sent:\n",
            "['I have your cat, send the agreed payment to the agreed upon location', 'hello, is this billy?', \"We've been trying to reach you about your car's extended warranty\"]\n",
            "['I have your cat, send the agreed payment to the agreed upon location', 'hello, is this billy?', \"We've been trying to reach you about your car's extended warranty\"]\n",
            "['I have your cat, send the agreed payment to the agreed upon location', 'hello, is this billy?', \"We've been trying to reach you about your car's extended warranty\"]\n"
          ]
        }
      ],
      "source": [
        "def show_messages(unsent_messages, sent_messages):\n",
        "    \"\"\"Computer, print out my messages in a list.\"\"\"\n",
        "    while unsent_messages:\n",
        "      current_message = unsent_messages.pop()\n",
        "      print(f\"Unsent messages: {current_message}\")\n",
        "      sent_messages.append(current_message)\n",
        "\n",
        "def show_sent_messages(sent_messages):\n",
        "  \"\"\"Computer, show all sent messages\"\"\"\n",
        "  print(\"\\nThe following messages have been sent:\")\n",
        "  for sent_message in sent_messages:\n",
        "    print(sent_messages)\n",
        "\n",
        "unsent_messages = [\n",
        "      \"We\\'ve been trying to reach you about your car\\'s extended warranty\",\n",
        "      \"hello, is this billy?\",\n",
        "      \"I have your cat, send the agreed payment to the agreed upon location\"\n",
        "     ]\n",
        "sent_messages = []\n",
        "\n",
        "show_messages(unsent_messages, sent_messages)\n",
        "show_sent_messages(sent_messages)\n",
        "    "
      ]
    },
    {
      "cell_type": "markdown",
      "id": "c98f1dd0",
      "metadata": {
        "id": "c98f1dd0"
      },
      "source": [
        "## Question 21\n",
        "\n",
        "**Learning Python:** Open a blank file in your text editor and write a few lines summarizing what you’ve learned about Python so far. Start each line with the phrase _In Python you can. . .._ Save the file as _learning_python.txt_ in the same directory as your exercises from this chapter. Write a program that reads the file and prints what you wrote three times. Print the contents once by reading in the entire file, once by looping over the file object, and once by storing the lines in a list and then working with them outside the _with_ block."
      ]
    },
    {
      "cell_type": "code",
      "execution_count": null,
      "id": "cb5da040",
      "metadata": {
        "id": "cb5da040",
        "colab": {
          "base_uri": "https://localhost:8080/",
          "height": 36
        },
        "outputId": "483c56cb-a7f9-4011-bd50-011aa73ec87e"
      },
      "outputs": [
        {
          "output_type": "execute_result",
          "data": {
            "text/plain": [
              "'In Python you can print out \"hello world\"\\nIn Python you can make and edit lists\\nIn Python you can display messages based on use inputs'"
            ],
            "application/vnd.google.colaboratory.intrinsic+json": {
              "type": "string"
            }
          },
          "metadata": {},
          "execution_count": 96
        }
      ],
      "source": [
        "f = open('/content/sample_data/learning_python.txt')\n",
        "f.read()"
      ]
    },
    {
      "cell_type": "code",
      "source": [
        "filename = '/content/sample_data/learning_python.txt'\n",
        "\n",
        "with open(filename) as file_object:\n",
        "    for line in file_object:\n",
        "        print(line)"
      ],
      "metadata": {
        "colab": {
          "base_uri": "https://localhost:8080/"
        },
        "id": "IHyjdt8zuGuh",
        "outputId": "9af8a5d4-9512-4c1e-da44-faf89cb7419f"
      },
      "id": "IHyjdt8zuGuh",
      "execution_count": null,
      "outputs": [
        {
          "output_type": "stream",
          "name": "stdout",
          "text": [
            "In Python you can print out \"hello world\"\n",
            "\n",
            "In Python you can make and edit lists\n",
            "\n",
            "In Python you can display messages based on use inputs\n"
          ]
        }
      ]
    },
    {
      "cell_type": "code",
      "source": [
        "filename = '/content/sample_data/learning_python.txt'\n",
        "\n",
        "with open(filename) as file_object:\n",
        "    lines = file_object.readlines()\n",
        "\n",
        "for line in lines:\n",
        "    print(line.rstrip())"
      ],
      "metadata": {
        "colab": {
          "base_uri": "https://localhost:8080/"
        },
        "id": "1xREcuwduEyf",
        "outputId": "6dcd68ae-9dcc-419d-b046-a26b095985f4"
      },
      "id": "1xREcuwduEyf",
      "execution_count": null,
      "outputs": [
        {
          "output_type": "stream",
          "name": "stdout",
          "text": [
            "In Python you can print out \"hello world\"\n",
            "In Python you can make and edit lists\n",
            "In Python you can display messages based on use inputs\n"
          ]
        }
      ]
    },
    {
      "cell_type": "markdown",
      "id": "4a1a04ad",
      "metadata": {
        "id": "4a1a04ad"
      },
      "source": [
        "## Question 22\n",
        "\n",
        "**Learning C:** You can use the replace() method to replace any word in a string with a different word. Here’s a quick example showing how to replace 'dog' with 'cat' in a sentence:\n",
        "\n",
        "```text\n",
        "message = \"I really like dogs.\"\n",
        "message.replace('dog', 'cat')\n",
        "'I really like cats.'\n",
        "```\n",
        "\n",
        "Read in each line from the file you just created, _learning_python.txt_, and replace the word _Python_ with the name of another language, such as _C_. Print each modified line to the screen."
      ]
    },
    {
      "cell_type": "code",
      "execution_count": null,
      "id": "b11b8018",
      "metadata": {
        "id": "b11b8018",
        "colab": {
          "base_uri": "https://localhost:8080/"
        },
        "outputId": "ff35fb08-6ff9-4d2b-c89b-bbb55fa9a4bb"
      },
      "outputs": [
        {
          "output_type": "stream",
          "name": "stdout",
          "text": [
            "In C you can print out \"hello world\"\n",
            "In C you can make and edit lists\n",
            "In C you can display messages based on use inputs\n"
          ]
        }
      ],
      "source": [
        "filename = '/content/sample_data/learning_python.txt'\n",
        "\n",
        "with open(filename, 'r') as file_object:\n",
        "  contents = file_object.read()\n",
        "\n",
        "contents = contents.replace('Python', 'C')\n",
        "\n",
        "print(contents)\n"
      ]
    },
    {
      "cell_type": "markdown",
      "id": "0921244a",
      "metadata": {
        "id": "0921244a"
      },
      "source": [
        "## Question 23\n",
        "\n",
        "**Guest:** Write a program that prompts the user for their name. When they respond, write their name to a file called guest.txt."
      ]
    },
    {
      "cell_type": "code",
      "execution_count": null,
      "id": "340d8f4b",
      "metadata": {
        "id": "340d8f4b",
        "colab": {
          "base_uri": "https://localhost:8080/"
        },
        "outputId": "d2811a03-994d-46d3-92f1-09516209feea"
      },
      "outputs": [
        {
          "name": "stdout",
          "output_type": "stream",
          "text": [
            "Please enter a usernameTest\n"
          ]
        }
      ],
      "source": [
        "username = input(\"Please enter a username\")\n",
        "with open('/content/sample_data/guest.txt', 'w') as file_object:\n",
        "  file_object.write(username)"
      ]
    },
    {
      "cell_type": "markdown",
      "id": "24b72b21",
      "metadata": {
        "id": "24b72b21"
      },
      "source": [
        "## Question 24\n",
        "\n",
        "**Guest Book:** Write a while loop that prompts users for their name. When they enter their name, print a greeting to the screen and add a line recording their visit in a file called guest_book.txt. Make sure each entry appears on a new line in the file."
      ]
    },
    {
      "cell_type": "code",
      "execution_count": null,
      "id": "2326c653",
      "metadata": {
        "id": "2326c653",
        "colab": {
          "base_uri": "https://localhost:8080/"
        },
        "outputId": "8c5f2529-6293-44ad-de0c-083ad3ef8f1c"
      },
      "outputs": [
        {
          "name": "stdout",
          "output_type": "stream",
          "text": [
            "Please enter a username\n",
            "Enter 'q' to quitTest\n",
            "Hello Test, Welcome to our site!\n",
            "Please enter a username\n",
            "Enter 'q' to quitq\n"
          ]
        }
      ],
      "source": [
        "while True:\n",
        "  username = input(\"Please enter a username\\nEnter 'q' to quit\")\n",
        "  if username == 'q':\n",
        "    break\n",
        "\n",
        "  print(f\"Hello {username}, Welcome to our site!\")\n",
        "  with open('/content/sample_data/guest_book.txt', 'w') as file_object:\n",
        "    file_object.write(username + \"\\n\")\n"
      ]
    },
    {
      "cell_type": "markdown",
      "id": "f3075d32",
      "metadata": {
        "id": "f3075d32"
      },
      "source": [
        "## Question 25\n",
        "\n",
        "**Programming Poll:** Write a while loop that asks people why they like programming. Each time someone enters a reason, add their reason to a file that stores all the responses."
      ]
    },
    {
      "cell_type": "code",
      "execution_count": null,
      "id": "042dfb04",
      "metadata": {
        "id": "042dfb04",
        "colab": {
          "base_uri": "https://localhost:8080/"
        },
        "outputId": "0e12a1ef-035f-4f6f-cf2b-20307ed60273"
      },
      "outputs": [
        {
          "name": "stdout",
          "output_type": "stream",
          "text": [
            "Please enter why you like programming\n",
            "Enter 'q' to quitI can listen to music\n",
            "Please enter why you like programming\n",
            "Enter 'q' to quitq\n"
          ]
        }
      ],
      "source": [
        "while True:\n",
        "  poll = input(\"Please enter why you like programming\\nEnter 'q' to quit\")\n",
        "  if poll == 'q':\n",
        "    break\n",
        "  with open('/content/sample_data/programming poll', 'w') as file_object:\n",
        "    file_object.write(poll + \"\\n\")"
      ]
    },
    {
      "cell_type": "markdown",
      "id": "ed07a1ca",
      "metadata": {
        "id": "ed07a1ca"
      },
      "source": [
        "## Question 26\n",
        "\n",
        "**Addition:** One common problem when prompting for numerical input occurs when people provide text instead of numbers. When you try to convert the input to an int, you’ll get a ValueError. Write a program that prompts for two numbers. Add them together and print the result. Catch the ValueError if either input value is not a number, and print a friendly error message. Test your program by entering two numbers and then by entering some text instead of a number."
      ]
    },
    {
      "cell_type": "code",
      "execution_count": null,
      "id": "eaf686f8",
      "metadata": {
        "id": "eaf686f8",
        "colab": {
          "base_uri": "https://localhost:8080/"
        },
        "outputId": "23427d71-d9a3-4f99-8d8e-fd9c9cde196f"
      },
      "outputs": [
        {
          "output_type": "stream",
          "name": "stdout",
          "text": [
            "Give me two numbers, and I'll add them.\n",
            "\n",
            "First number: r\n",
            "Second number: 2\n",
            "Something went wrong :c\n"
          ]
        }
      ],
      "source": [
        "print(\"Give me two numbers, and I'll add them.\")\n",
        "\n",
        "first_number = input(\"\\nFirst number: \")\n",
        "second_number = input(\"Second number: \")\n",
        "\n",
        "try:\n",
        "  answer = int(first_number)+int(second_number)\n",
        "except:\n",
        "  print(\"Something went wrong :c\")\n",
        "else:\n",
        "  print(answer)"
      ]
    },
    {
      "cell_type": "markdown",
      "id": "09db5341",
      "metadata": {
        "id": "09db5341"
      },
      "source": [
        "## Question 27\n",
        "\n",
        "**Addition Calculator:** Wrap your code from Question 26 in a while loop so the user can continue entering numbers even if they make a mistake and enter text instead of a number."
      ]
    },
    {
      "cell_type": "code",
      "execution_count": null,
      "id": "916c769d",
      "metadata": {
        "id": "916c769d"
      },
      "outputs": [],
      "source": [
        "print(\"Give me two numbers, and I'll add them.\")\n",
        "print(\"Enter 'q' to quit.\")\n",
        "\n",
        "while True:\n",
        "    first_number = input(\"\\nFirst number: \")\n",
        "    if first_number == 'q':\n",
        "        break\n",
        "    second_number = input(\"Second number: \")\n",
        "    if second_number == 'q':\n",
        "        break\n",
        "    try:\n",
        "      answer = int(first_number)+int(second_number)\n",
        "    except:\n",
        "      print(\"Something went wrong :c\")\n",
        "    else:\n",
        "      print(answer)"
      ]
    },
    {
      "cell_type": "markdown",
      "id": "288099a9",
      "metadata": {
        "id": "288099a9"
      },
      "source": [
        "## Question 28\n",
        "\n",
        "**Cats and Dogs:** Make two files, _cats.txt_ and _dogs.txt_. Store at least three names of cats in the first file and three names of dogs in the second file. Write a program that tries to read these files and print the contents of the file to the screen. Wrap your code in a `try-except` block to catch the `FileNotFound` error, and print a friendly message if a file is missing. Move one of the files to a different location on your system, and make sure the code in the `except` block executes properly."
      ]
    },
    {
      "cell_type": "code",
      "execution_count": null,
      "id": "387672f6",
      "metadata": {
        "id": "387672f6",
        "colab": {
          "base_uri": "https://localhost:8080/"
        },
        "outputId": "89227b8c-c8e0-4688-b871-1b165f2b9b4f"
      },
      "outputs": [
        {
          "output_type": "stream",
          "name": "stdout",
          "text": [
            "\n",
            "/content/sample_data/Cats and Dogs/cats.txt:\n",
            "Mew\n",
            "Syca\n",
            "Oliver\n",
            "Sorry, the file /content/sample_data/Cats and Dogs/dogs.txt does not exist.\n"
          ]
        }
      ],
      "source": [
        "filenamess = ['/content/sample_data/Cats and Dogs/cats.txt', '/content/sample_data/Cats and Dogs/dogs.txt']\n",
        "\n",
        "for filename in filenamess:\n",
        "  try:\n",
        "    with open(filename) as file_object:\n",
        "      contents = file_object.read()\n",
        "      print(f\"\\n{filename}:\")\n",
        "      print(contents)\n",
        "  except FileNotFoundError:\n",
        "   print(f\"Sorry, the file {filename} does not exist.\")\n"
      ]
    },
    {
      "cell_type": "markdown",
      "id": "e9d28546",
      "metadata": {
        "id": "e9d28546"
      },
      "source": [
        "## Question 29\n",
        "\n",
        "**Silent Cats and Dogs:** Modify your except block in Question 28 to fail silently if either file is missing."
      ]
    },
    {
      "cell_type": "code",
      "execution_count": null,
      "id": "2b972722",
      "metadata": {
        "id": "2b972722",
        "colab": {
          "base_uri": "https://localhost:8080/"
        },
        "outputId": "4a399ee1-113a-40eb-b6ab-c9f4f0d60b3f"
      },
      "outputs": [
        {
          "output_type": "stream",
          "name": "stdout",
          "text": [
            "\n",
            "/content/sample_data/Cats and Dogs/cats.txt:\n",
            "Mew\n",
            "Syca\n",
            "Oliver\n"
          ]
        }
      ],
      "source": [
        "filenamess = ['/content/sample_data/Cats and Dogs/cats.txt', '/content/sample_data/Cats and Dogs/dogs.txt']\n",
        "\n",
        "for filename in filenamess:\n",
        "  try:\n",
        "    with open(filename) as file_object:\n",
        "      contents = file_object.read()\n",
        "      print(f\"\\n{filename}:\")\n",
        "      print(contents)\n",
        "  except FileNotFoundError:\n",
        "   pass"
      ]
    },
    {
      "cell_type": "markdown",
      "id": "241ffab1",
      "metadata": {
        "id": "241ffab1"
      },
      "source": [
        "## Question 30\n",
        "\n",
        "**Common Words:** Visit Project Gutenberg (<https://gutenberg.org/>) and find a few texts you’d like to analyze. Download the text files for these works, or copy the raw text from your browser into a text file on your computer. You can use the `count()` method to find out how many times a word or phrase appears in a string. For example, the following code counts the number of times 'row' appears in a string:"
      ]
    },
    {
      "cell_type": "code",
      "execution_count": null,
      "id": "2a017ac9",
      "metadata": {
        "id": "2a017ac9"
      },
      "outputs": [],
      "source": [
        "line = \"Row, row, row your boat\"\n",
        "line.count('row')"
      ]
    },
    {
      "cell_type": "code",
      "execution_count": null,
      "id": "41707165",
      "metadata": {
        "id": "41707165"
      },
      "outputs": [],
      "source": [
        "line.lower().count('row')"
      ]
    },
    {
      "cell_type": "markdown",
      "id": "5652cc4d",
      "metadata": {
        "id": "5652cc4d"
      },
      "source": [
        "Notice that converting the string to lowercase using lower() catches all appearances of the word you’re looking for, regardless of how it’s formatted.\n",
        "\n",
        "Write a program that reads the files you found at Project Gutenberg and determines how many times the word `the` appears in each text. This will be an approximation because it will also count words such as `then` and `there`. Try counting `the`, with a space in the string, and see how much lower your count is."
      ]
    },
    {
      "cell_type": "code",
      "execution_count": null,
      "id": "55ab2af3",
      "metadata": {
        "id": "55ab2af3",
        "colab": {
          "base_uri": "https://localhost:8080/"
        },
        "outputId": "5d1fe13d-23f3-4faa-c510-7b2aec968335"
      },
      "outputs": [
        {
          "output_type": "stream",
          "name": "stdout",
          "text": [
            "In (/content/sample_data/book.txt) the word 'the' appears 989 times.\n"
          ]
        }
      ],
      "source": [
        "filename = '/content/sample_data/book.txt'\n",
        "\n",
        "try:\n",
        "    with open(filename, encoding='utf-8') as f:\n",
        "        contents = f.read()\n",
        "except FileNotFoundError:\n",
        "    print(f\"Sorry, the file {filename} does not exist.\")\n",
        "else:\n",
        "    count = contents.lower().count('the')\n",
        "    print(f\"In ({filename}) the word 'the' appears {count} times.\")"
      ]
    },
    {
      "cell_type": "code",
      "source": [
        "filename = '/content/sample_data/book.txt'\n",
        "\n",
        "try:\n",
        "    with open(filename, encoding='utf-8') as f:\n",
        "        contents = f.read()\n",
        "except FileNotFoundError:\n",
        "    print(f\"Sorry, the file {filename} does not exist.\")\n",
        "else:\n",
        "    count = contents.lower().count('the ')\n",
        "    print(f\"In ({filename}) the word 'the' appears {count} times.\")"
      ],
      "metadata": {
        "colab": {
          "base_uri": "https://localhost:8080/"
        },
        "id": "oTb1osO7LYkP",
        "outputId": "4ae361f6-1b81-47e5-a720-fad6270992fb"
      },
      "id": "oTb1osO7LYkP",
      "execution_count": null,
      "outputs": [
        {
          "output_type": "stream",
          "name": "stdout",
          "text": [
            "In (/content/sample_data/book.txt) the word 'the' appears 792 times.\n"
          ]
        }
      ]
    }
  ],
  "metadata": {
    "kernelspec": {
      "display_name": "Python 3",
      "language": "python",
      "name": "python3"
    },
    "colab": {
      "provenance": []
    }
  },
  "nbformat": 4,
  "nbformat_minor": 5
}